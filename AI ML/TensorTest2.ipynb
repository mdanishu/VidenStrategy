{
 "cells": [
  {
   "cell_type": "code",
   "execution_count": 1,
   "metadata": {
    "collapsed": false,
    "pycharm": {
     "name": "#%%\n"
    }
   },
   "outputs": [
    {
     "name": "stdout",
     "output_type": "stream",
     "text": [
      "                          Date       Price     Volume\n",
      "0    2018-01-24 00:00:00-05:00   41.416435  204420400\n",
      "1    2018-01-25 00:00:00-05:00   40.677113  166116000\n",
      "2    2018-01-26 00:00:00-05:00   40.772202  156572000\n",
      "3    2018-01-29 00:00:00-05:00   39.928280  202561600\n",
      "4    2018-01-30 00:00:00-05:00   39.692928  184192800\n",
      "...                        ...         ...        ...\n",
      "1253 2023-01-17 00:00:00-05:00  135.940002   63646600\n",
      "1254 2023-01-18 00:00:00-05:00  135.210007   69672800\n",
      "1255 2023-01-19 00:00:00-05:00  135.270004   58280400\n",
      "1256 2023-01-20 00:00:00-05:00  137.869995   79972200\n",
      "1257 2023-01-23 00:00:00-05:00  141.110001   79728676\n",
      "\n",
      "[1258 rows x 3 columns]\n"
     ]
    },
    {
     "ename": "ImportError",
     "evalue": "cannot import name 'keras' from 'tensorflow' (unknown location)",
     "output_type": "error",
     "traceback": [
      "\u001b[1;31m---------------------------------------------------------------------------\u001b[0m",
      "\u001b[1;31mImportError\u001b[0m                               Traceback (most recent call last)",
      "Cell \u001b[1;32mIn[1], line 14\u001b[0m\n\u001b[0;32m     12\u001b[0m \u001b[39mfrom\u001b[39;00m \u001b[39mpandas\u001b[39;00m\u001b[39m.\u001b[39;00m\u001b[39mtseries\u001b[39;00m\u001b[39m.\u001b[39;00m\u001b[39mholiday\u001b[39;00m \u001b[39mimport\u001b[39;00m USFederalHolidayCalendar\n\u001b[0;32m     13\u001b[0m \u001b[39mfrom\u001b[39;00m \u001b[39mpandas\u001b[39;00m\u001b[39m.\u001b[39;00m\u001b[39mtseries\u001b[39;00m\u001b[39m.\u001b[39;00m\u001b[39moffsets\u001b[39;00m \u001b[39mimport\u001b[39;00m CustomBusinessDay\n\u001b[1;32m---> 14\u001b[0m \u001b[39mfrom\u001b[39;00m \u001b[39mtensorflow\u001b[39;00m \u001b[39mimport\u001b[39;00m keras\n\u001b[0;32m     15\u001b[0m \u001b[39mfrom\u001b[39;00m \u001b[39mtensorflow\u001b[39;00m\u001b[39m.\u001b[39;00m\u001b[39mkeras\u001b[39;00m\u001b[39m.\u001b[39;00m\u001b[39mmodels\u001b[39;00m \u001b[39mimport\u001b[39;00m Sequential\n\u001b[0;32m     16\u001b[0m \u001b[39mfrom\u001b[39;00m \u001b[39mtensorflow\u001b[39;00m\u001b[39m.\u001b[39;00m\u001b[39mkeras\u001b[39;00m\u001b[39m.\u001b[39;00m\u001b[39mlayers\u001b[39;00m \u001b[39mimport\u001b[39;00m LSTM\n",
      "\u001b[1;31mImportError\u001b[0m: cannot import name 'keras' from 'tensorflow' (unknown location)"
     ]
    }
   ],
   "source": [
    "import tensorflow as tf\n",
    "import yfinance as yf\n",
    "import numpy as np\n",
    "import matplotlib.pyplot as plt\n",
    "import pandas as pd\n",
    "import datetime as dt\n",
    "import sys\n",
    "sys.path.insert(1,'c:/Users/h2pro/Programming')\n",
    "import StockPull\n",
    "from sklearn.preprocessing import MinMaxScaler, StandardScaler\n",
    "import seaborn as sns\n",
    "from pandas.tseries.holiday import USFederalHolidayCalendar\n",
    "\n",
    "from pandas.tseries.offsets import CustomBusinessDay\n",
    "from tensorflow import keras\n",
    "from tensorflow.keras.models import Sequential\n",
    "from tensorflow.keras.layers import LSTM\n",
    "from tensorflow.keras.layers import Dense, Dropout\n",
    "# import keras\n",
    "# from keras.models import Sequential\n",
    "# from keras.layers import LSTM, Dense, Dropout"
   ]
  },
  {
   "cell_type": "code",
   "execution_count": 10,
   "metadata": {},
   "outputs": [],
   "source": [
    "#load data\n",
    "company = 'MSFT'\n",
    "start = dt.datetime(2012,1,1)\n",
    "end = dt.datetime(2022,1,1)\n",
    "\n",
    "data = StockPull.analysisout(company)\n",
    "df = data"
   ]
  },
  {
   "cell_type": "code",
   "execution_count": 11,
   "metadata": {
    "collapsed": false,
    "pycharm": {
     "name": "#%%\n"
    }
   },
   "outputs": [
    {
     "name": "stdout",
     "output_type": "stream",
     "text": [
      "1243   2022-12-30 00:00:00-05:00\n",
      "1244   2023-01-03 00:00:00-05:00\n",
      "1245   2023-01-04 00:00:00-05:00\n",
      "1246   2023-01-05 00:00:00-05:00\n",
      "1247   2023-01-06 00:00:00-05:00\n",
      "1248   2023-01-09 00:00:00-05:00\n",
      "1249   2023-01-10 00:00:00-05:00\n",
      "1250   2023-01-11 00:00:00-05:00\n",
      "1251   2023-01-12 00:00:00-05:00\n",
      "1252   2023-01-13 00:00:00-05:00\n",
      "1253   2023-01-17 00:00:00-05:00\n",
      "1254   2023-01-18 00:00:00-05:00\n",
      "1255   2023-01-19 00:00:00-05:00\n",
      "1256   2023-01-20 00:00:00-05:00\n",
      "1257   2023-01-23 00:00:00-05:00\n",
      "Name: Date, dtype: datetime64[ns, America/New_York]\n",
      "           Price      Volume\n",
      "0      86.468254  33277500.0\n",
      "1      86.948532  26383200.0\n",
      "2      88.577713  29172200.0\n",
      "3      88.445854  31569900.0\n",
      "4      87.334633  38635100.0\n",
      "...          ...         ...\n",
      "1253  240.350006  29831300.0\n",
      "1254  235.809998  30028700.0\n",
      "1255  231.929993  28623000.0\n",
      "1256  240.220001  35323400.0\n",
      "1257  242.580002  30346782.0\n",
      "\n",
      "[1258 rows x 2 columns]\n"
     ]
    }
   ],
   "source": [
    "#Separate dates for future plotting\n",
    "train_dates = pd.to_datetime(df['Date'])\n",
    "print(train_dates.tail(15)) #Check last few dates. \n",
    "\n",
    "#Variables for training\n",
    "cols = list(df)[1:3]\n",
    "#New dataframe with only training data - 5 columns\n",
    "df_for_training = df[cols].astype(float)\n",
    "# print(train_data)\n",
    "print(df_for_training)"
   ]
  },
  {
   "cell_type": "code",
   "execution_count": 12,
   "metadata": {
    "collapsed": false,
    "pycharm": {
     "name": "#%%\n"
    }
   },
   "outputs": [],
   "source": [
    "scaler = StandardScaler()\n",
    "scaler = scaler.fit(df_for_training)\n",
    "df_for_training_scaled = scaler.transform(df_for_training)"
   ]
  },
  {
   "cell_type": "code",
   "execution_count": 13,
   "metadata": {
    "collapsed": false,
    "pycharm": {
     "name": "#%%\n"
    }
   },
   "outputs": [
    {
     "name": "stdout",
     "output_type": "stream",
     "text": [
      "trainX shape == (1198, 60, 2).\n",
      "trainY shape == (1198, 1).\n"
     ]
    }
   ],
   "source": [
    "#Empty lists to be populated using formatted training data\n",
    "trainX = []\n",
    "trainY = []\n",
    "\n",
    "n_future = 1   # Number of days we want to look into the future based on the past days.\n",
    "n_past = 60  # Number of past days we want to use to predict the future.\n",
    "\n",
    "#Reformat input data into a shape: (n_samples x timesteps x n_features)\n",
    "#In my example, my df_for_training_scaled has a shape (12823, 5)\n",
    "#12823 refers to the number of data points and 5 refers to the columns (multi-variables).\n",
    "for i in range(n_past, len(df_for_training_scaled) - n_future +1):\n",
    "    trainX.append(df_for_training_scaled[i - n_past:i, 0:df_for_training.shape[1]])\n",
    "    trainY.append(df_for_training_scaled[i + n_future - 1:i + n_future, 0])\n",
    "\n",
    "trainX, trainY = np.array(trainX), np.array(trainY)\n",
    "\n",
    "print('trainX shape == {}.'.format(trainX.shape))\n",
    "print('trainY shape == {}.'.format(trainY.shape))"
   ]
  },
  {
   "cell_type": "code",
   "execution_count": 18,
   "metadata": {
    "collapsed": false,
    "pycharm": {
     "name": "#%%\n"
    }
   },
   "outputs": [
    {
     "ename": "AttributeError",
     "evalue": "module 'tensorflow' has no attribute 'keras'",
     "output_type": "error",
     "traceback": [
      "\u001b[1;31m---------------------------------------------------------------------------\u001b[0m",
      "\u001b[1;31mAttributeError\u001b[0m                            Traceback (most recent call last)",
      "Cell \u001b[1;32mIn[18], line 1\u001b[0m\n\u001b[1;32m----> 1\u001b[0m model \u001b[39m=\u001b[39m tf\u001b[39m.\u001b[39;49mkeras\u001b[39m.\u001b[39mSequential()\n\u001b[0;32m      2\u001b[0m model\u001b[39m.\u001b[39madd(tf\u001b[39m.\u001b[39mkeras\u001b[39m.\u001b[39mLSTM(\u001b[39m64\u001b[39m, activation\u001b[39m=\u001b[39m\u001b[39m'\u001b[39m\u001b[39mrelu\u001b[39m\u001b[39m'\u001b[39m, input_shape\u001b[39m=\u001b[39m(trainX\u001b[39m.\u001b[39mshape[\u001b[39m1\u001b[39m], trainX\u001b[39m.\u001b[39mshape[\u001b[39m2\u001b[39m]), return_sequences\u001b[39m=\u001b[39m\u001b[39mTrue\u001b[39;00m))\n\u001b[0;32m      3\u001b[0m model\u001b[39m.\u001b[39madd(tf\u001b[39m.\u001b[39mkeras\u001b[39m.\u001b[39mLSTM(\u001b[39m32\u001b[39m, activation\u001b[39m=\u001b[39m\u001b[39m'\u001b[39m\u001b[39mrelu\u001b[39m\u001b[39m'\u001b[39m, return_sequences\u001b[39m=\u001b[39m\u001b[39mFalse\u001b[39;00m))\n",
      "\u001b[1;31mAttributeError\u001b[0m: module 'tensorflow' has no attribute 'keras'"
     ]
    }
   ],
   "source": [
    "model = Sequential()\n",
    "model.add(LSTM(64, activation='relu', input_shape=(trainX.shape[1], trainX.shape[2]), return_sequences=True))\n",
    "model.add(LSTM(32, activation='relu', return_sequences=False))\n",
    "model.add(Dropout(0.2))\n",
    "model.add(Dense(trainY.shape[1]))\n",
    "\n",
    "model.compile(optimizer='adam', loss='mse')\n",
    "model.summary()\n",
    "\n",
    "\n",
    "# fit the model\n",
    "history = model.fit(trainX, trainY, epochs=25, batch_size=16, validation_split=0.1, verbose=1)"
   ]
  },
  {
   "cell_type": "code",
   "execution_count": null,
   "metadata": {
    "collapsed": false,
    "pycharm": {
     "name": "#%%\n"
    }
   },
   "outputs": [
    {
     "name": "stdout",
     "output_type": "stream",
     "text": [
      "[Timestamp('2021-07-16 00:00:00', freq='C'), Timestamp('2021-07-19 00:00:00', freq='C'), Timestamp('2021-07-20 00:00:00', freq='C'), Timestamp('2021-07-21 00:00:00', freq='C'), Timestamp('2021-07-22 00:00:00', freq='C'), Timestamp('2021-07-23 00:00:00', freq='C'), Timestamp('2021-07-26 00:00:00', freq='C'), Timestamp('2021-07-27 00:00:00', freq='C'), Timestamp('2021-07-28 00:00:00', freq='C'), Timestamp('2021-07-29 00:00:00', freq='C'), Timestamp('2021-07-30 00:00:00', freq='C'), Timestamp('2021-08-02 00:00:00', freq='C'), Timestamp('2021-08-03 00:00:00', freq='C'), Timestamp('2021-08-04 00:00:00', freq='C'), Timestamp('2021-08-05 00:00:00', freq='C'), Timestamp('2021-08-06 00:00:00', freq='C'), Timestamp('2021-08-09 00:00:00', freq='C'), Timestamp('2021-08-10 00:00:00', freq='C'), Timestamp('2021-08-11 00:00:00', freq='C'), Timestamp('2021-08-12 00:00:00', freq='C'), Timestamp('2021-08-13 00:00:00', freq='C'), Timestamp('2021-08-16 00:00:00', freq='C'), Timestamp('2021-08-17 00:00:00', freq='C'), Timestamp('2021-08-18 00:00:00', freq='C'), Timestamp('2021-08-19 00:00:00', freq='C'), Timestamp('2021-08-20 00:00:00', freq='C'), Timestamp('2021-08-23 00:00:00', freq='C'), Timestamp('2021-08-24 00:00:00', freq='C'), Timestamp('2021-08-25 00:00:00', freq='C'), Timestamp('2021-08-26 00:00:00', freq='C'), Timestamp('2021-08-27 00:00:00', freq='C'), Timestamp('2021-08-30 00:00:00', freq='C'), Timestamp('2021-08-31 00:00:00', freq='C'), Timestamp('2021-09-01 00:00:00', freq='C'), Timestamp('2021-09-02 00:00:00', freq='C'), Timestamp('2021-09-03 00:00:00', freq='C'), Timestamp('2021-09-07 00:00:00', freq='C'), Timestamp('2021-09-08 00:00:00', freq='C'), Timestamp('2021-09-09 00:00:00', freq='C'), Timestamp('2021-09-10 00:00:00', freq='C'), Timestamp('2021-09-13 00:00:00', freq='C'), Timestamp('2021-09-14 00:00:00', freq='C'), Timestamp('2021-09-15 00:00:00', freq='C'), Timestamp('2021-09-16 00:00:00', freq='C'), Timestamp('2021-09-17 00:00:00', freq='C'), Timestamp('2021-09-20 00:00:00', freq='C'), Timestamp('2021-09-21 00:00:00', freq='C'), Timestamp('2021-09-22 00:00:00', freq='C'), Timestamp('2021-09-23 00:00:00', freq='C'), Timestamp('2021-09-24 00:00:00', freq='C'), Timestamp('2021-09-27 00:00:00', freq='C'), Timestamp('2021-09-28 00:00:00', freq='C'), Timestamp('2021-09-29 00:00:00', freq='C'), Timestamp('2021-09-30 00:00:00', freq='C'), Timestamp('2021-10-01 00:00:00', freq='C'), Timestamp('2021-10-04 00:00:00', freq='C'), Timestamp('2021-10-05 00:00:00', freq='C'), Timestamp('2021-10-06 00:00:00', freq='C'), Timestamp('2021-10-07 00:00:00', freq='C'), Timestamp('2021-10-08 00:00:00', freq='C'), Timestamp('2021-10-12 00:00:00', freq='C'), Timestamp('2021-10-13 00:00:00', freq='C'), Timestamp('2021-10-14 00:00:00', freq='C'), Timestamp('2021-10-15 00:00:00', freq='C'), Timestamp('2021-10-18 00:00:00', freq='C'), Timestamp('2021-10-19 00:00:00', freq='C'), Timestamp('2021-10-20 00:00:00', freq='C'), Timestamp('2021-10-21 00:00:00', freq='C'), Timestamp('2021-10-22 00:00:00', freq='C'), Timestamp('2021-10-25 00:00:00', freq='C'), Timestamp('2021-10-26 00:00:00', freq='C'), Timestamp('2021-10-27 00:00:00', freq='C'), Timestamp('2021-10-28 00:00:00', freq='C'), Timestamp('2021-10-29 00:00:00', freq='C'), Timestamp('2021-11-01 00:00:00', freq='C'), Timestamp('2021-11-02 00:00:00', freq='C'), Timestamp('2021-11-03 00:00:00', freq='C'), Timestamp('2021-11-04 00:00:00', freq='C'), Timestamp('2021-11-05 00:00:00', freq='C'), Timestamp('2021-11-08 00:00:00', freq='C'), Timestamp('2021-11-09 00:00:00', freq='C'), Timestamp('2021-11-10 00:00:00', freq='C'), Timestamp('2021-11-12 00:00:00', freq='C'), Timestamp('2021-11-15 00:00:00', freq='C'), Timestamp('2021-11-16 00:00:00', freq='C'), Timestamp('2021-11-17 00:00:00', freq='C'), Timestamp('2021-11-18 00:00:00', freq='C'), Timestamp('2021-11-19 00:00:00', freq='C'), Timestamp('2021-11-22 00:00:00', freq='C'), Timestamp('2021-11-23 00:00:00', freq='C'), Timestamp('2021-11-24 00:00:00', freq='C'), Timestamp('2021-11-26 00:00:00', freq='C'), Timestamp('2021-11-29 00:00:00', freq='C'), Timestamp('2021-11-30 00:00:00', freq='C'), Timestamp('2021-12-01 00:00:00', freq='C'), Timestamp('2021-12-02 00:00:00', freq='C'), Timestamp('2021-12-03 00:00:00', freq='C'), Timestamp('2021-12-06 00:00:00', freq='C'), Timestamp('2021-12-07 00:00:00', freq='C'), Timestamp('2021-12-08 00:00:00', freq='C'), Timestamp('2021-12-09 00:00:00', freq='C'), Timestamp('2021-12-10 00:00:00', freq='C'), Timestamp('2021-12-13 00:00:00', freq='C'), Timestamp('2021-12-14 00:00:00', freq='C'), Timestamp('2021-12-15 00:00:00', freq='C'), Timestamp('2021-12-16 00:00:00', freq='C'), Timestamp('2021-12-17 00:00:00', freq='C'), Timestamp('2021-12-20 00:00:00', freq='C'), Timestamp('2021-12-21 00:00:00', freq='C'), Timestamp('2021-12-22 00:00:00', freq='C'), Timestamp('2021-12-23 00:00:00', freq='C'), Timestamp('2021-12-27 00:00:00', freq='C'), Timestamp('2021-12-28 00:00:00', freq='C'), Timestamp('2021-12-29 00:00:00', freq='C'), Timestamp('2021-12-30 00:00:00', freq='C'), Timestamp('2022-01-03 00:00:00', freq='C'), Timestamp('2022-01-04 00:00:00', freq='C'), Timestamp('2022-01-05 00:00:00', freq='C'), Timestamp('2022-01-06 00:00:00', freq='C'), Timestamp('2022-01-07 00:00:00', freq='C'), Timestamp('2022-01-10 00:00:00', freq='C'), Timestamp('2022-01-11 00:00:00', freq='C'), Timestamp('2022-01-12 00:00:00', freq='C'), Timestamp('2022-01-13 00:00:00', freq='C'), Timestamp('2022-01-14 00:00:00', freq='C'), Timestamp('2022-01-18 00:00:00', freq='C'), Timestamp('2022-01-19 00:00:00', freq='C'), Timestamp('2022-01-20 00:00:00', freq='C'), Timestamp('2022-01-21 00:00:00', freq='C'), Timestamp('2022-01-24 00:00:00', freq='C'), Timestamp('2022-01-25 00:00:00', freq='C'), Timestamp('2022-01-26 00:00:00', freq='C'), Timestamp('2022-01-27 00:00:00', freq='C'), Timestamp('2022-01-28 00:00:00', freq='C'), Timestamp('2022-01-31 00:00:00', freq='C'), Timestamp('2022-02-01 00:00:00', freq='C'), Timestamp('2022-02-02 00:00:00', freq='C'), Timestamp('2022-02-03 00:00:00', freq='C'), Timestamp('2022-02-04 00:00:00', freq='C'), Timestamp('2022-02-07 00:00:00', freq='C'), Timestamp('2022-02-08 00:00:00', freq='C'), Timestamp('2022-02-09 00:00:00', freq='C'), Timestamp('2022-02-10 00:00:00', freq='C'), Timestamp('2022-02-11 00:00:00', freq='C'), Timestamp('2022-02-14 00:00:00', freq='C'), Timestamp('2022-02-15 00:00:00', freq='C'), Timestamp('2022-02-16 00:00:00', freq='C'), Timestamp('2022-02-17 00:00:00', freq='C'), Timestamp('2022-02-18 00:00:00', freq='C'), Timestamp('2022-02-22 00:00:00', freq='C'), Timestamp('2022-02-23 00:00:00', freq='C'), Timestamp('2022-02-24 00:00:00', freq='C'), Timestamp('2022-02-25 00:00:00', freq='C'), Timestamp('2022-02-28 00:00:00', freq='C'), Timestamp('2022-03-01 00:00:00', freq='C'), Timestamp('2022-03-02 00:00:00', freq='C'), Timestamp('2022-03-03 00:00:00', freq='C'), Timestamp('2022-03-04 00:00:00', freq='C'), Timestamp('2022-03-07 00:00:00', freq='C'), Timestamp('2022-03-08 00:00:00', freq='C'), Timestamp('2022-03-09 00:00:00', freq='C'), Timestamp('2022-03-10 00:00:00', freq='C'), Timestamp('2022-03-11 00:00:00', freq='C'), Timestamp('2022-03-14 00:00:00', freq='C'), Timestamp('2022-03-15 00:00:00', freq='C'), Timestamp('2022-03-16 00:00:00', freq='C'), Timestamp('2022-03-17 00:00:00', freq='C'), Timestamp('2022-03-18 00:00:00', freq='C'), Timestamp('2022-03-21 00:00:00', freq='C'), Timestamp('2022-03-22 00:00:00', freq='C'), Timestamp('2022-03-23 00:00:00', freq='C'), Timestamp('2022-03-24 00:00:00', freq='C'), Timestamp('2022-03-25 00:00:00', freq='C'), Timestamp('2022-03-28 00:00:00', freq='C'), Timestamp('2022-03-29 00:00:00', freq='C'), Timestamp('2022-03-30 00:00:00', freq='C'), Timestamp('2022-03-31 00:00:00', freq='C'), Timestamp('2022-04-01 00:00:00', freq='C'), Timestamp('2022-04-04 00:00:00', freq='C'), Timestamp('2022-04-05 00:00:00', freq='C'), Timestamp('2022-04-06 00:00:00', freq='C'), Timestamp('2022-04-07 00:00:00', freq='C'), Timestamp('2022-04-08 00:00:00', freq='C'), Timestamp('2022-04-11 00:00:00', freq='C'), Timestamp('2022-04-12 00:00:00', freq='C'), Timestamp('2022-04-13 00:00:00', freq='C'), Timestamp('2022-04-14 00:00:00', freq='C'), Timestamp('2022-04-15 00:00:00', freq='C'), Timestamp('2022-04-18 00:00:00', freq='C'), Timestamp('2022-04-19 00:00:00', freq='C'), Timestamp('2022-04-20 00:00:00', freq='C'), Timestamp('2022-04-21 00:00:00', freq='C'), Timestamp('2022-04-22 00:00:00', freq='C'), Timestamp('2022-04-25 00:00:00', freq='C'), Timestamp('2022-04-26 00:00:00', freq='C'), Timestamp('2022-04-27 00:00:00', freq='C'), Timestamp('2022-04-28 00:00:00', freq='C'), Timestamp('2022-04-29 00:00:00', freq='C'), Timestamp('2022-05-02 00:00:00', freq='C'), Timestamp('2022-05-03 00:00:00', freq='C'), Timestamp('2022-05-04 00:00:00', freq='C'), Timestamp('2022-05-05 00:00:00', freq='C'), Timestamp('2022-05-06 00:00:00', freq='C'), Timestamp('2022-05-09 00:00:00', freq='C'), Timestamp('2022-05-10 00:00:00', freq='C'), Timestamp('2022-05-11 00:00:00', freq='C'), Timestamp('2022-05-12 00:00:00', freq='C'), Timestamp('2022-05-13 00:00:00', freq='C'), Timestamp('2022-05-16 00:00:00', freq='C'), Timestamp('2022-05-17 00:00:00', freq='C'), Timestamp('2022-05-18 00:00:00', freq='C'), Timestamp('2022-05-19 00:00:00', freq='C'), Timestamp('2022-05-20 00:00:00', freq='C'), Timestamp('2022-05-23 00:00:00', freq='C'), Timestamp('2022-05-24 00:00:00', freq='C'), Timestamp('2022-05-25 00:00:00', freq='C'), Timestamp('2022-05-26 00:00:00', freq='C'), Timestamp('2022-05-27 00:00:00', freq='C'), Timestamp('2022-05-31 00:00:00', freq='C'), Timestamp('2022-06-01 00:00:00', freq='C'), Timestamp('2022-06-02 00:00:00', freq='C'), Timestamp('2022-06-03 00:00:00', freq='C'), Timestamp('2022-06-06 00:00:00', freq='C'), Timestamp('2022-06-07 00:00:00', freq='C'), Timestamp('2022-06-08 00:00:00', freq='C'), Timestamp('2022-06-09 00:00:00', freq='C'), Timestamp('2022-06-10 00:00:00', freq='C'), Timestamp('2022-06-13 00:00:00', freq='C'), Timestamp('2022-06-14 00:00:00', freq='C'), Timestamp('2022-06-15 00:00:00', freq='C'), Timestamp('2022-06-16 00:00:00', freq='C'), Timestamp('2022-06-17 00:00:00', freq='C'), Timestamp('2022-06-21 00:00:00', freq='C'), Timestamp('2022-06-22 00:00:00', freq='C'), Timestamp('2022-06-23 00:00:00', freq='C'), Timestamp('2022-06-24 00:00:00', freq='C'), Timestamp('2022-06-27 00:00:00', freq='C'), Timestamp('2022-06-28 00:00:00', freq='C'), Timestamp('2022-06-29 00:00:00', freq='C'), Timestamp('2022-06-30 00:00:00', freq='C'), Timestamp('2022-07-01 00:00:00', freq='C'), Timestamp('2022-07-05 00:00:00', freq='C'), Timestamp('2022-07-06 00:00:00', freq='C'), Timestamp('2022-07-07 00:00:00', freq='C'), Timestamp('2022-07-08 00:00:00', freq='C'), Timestamp('2022-07-11 00:00:00', freq='C'), Timestamp('2022-07-12 00:00:00', freq='C'), Timestamp('2022-07-13 00:00:00', freq='C'), Timestamp('2022-07-14 00:00:00', freq='C'), Timestamp('2022-07-15 00:00:00', freq='C'), Timestamp('2022-07-18 00:00:00', freq='C'), Timestamp('2022-07-19 00:00:00', freq='C'), Timestamp('2022-07-20 00:00:00', freq='C'), Timestamp('2022-07-21 00:00:00', freq='C'), Timestamp('2022-07-22 00:00:00', freq='C'), Timestamp('2022-07-25 00:00:00', freq='C'), Timestamp('2022-07-26 00:00:00', freq='C'), Timestamp('2022-07-27 00:00:00', freq='C'), Timestamp('2022-07-28 00:00:00', freq='C'), Timestamp('2022-07-29 00:00:00', freq='C'), Timestamp('2022-08-01 00:00:00', freq='C'), Timestamp('2022-08-02 00:00:00', freq='C'), Timestamp('2022-08-03 00:00:00', freq='C'), Timestamp('2022-08-04 00:00:00', freq='C'), Timestamp('2022-08-05 00:00:00', freq='C'), Timestamp('2022-08-08 00:00:00', freq='C'), Timestamp('2022-08-09 00:00:00', freq='C'), Timestamp('2022-08-10 00:00:00', freq='C'), Timestamp('2022-08-11 00:00:00', freq='C'), Timestamp('2022-08-12 00:00:00', freq='C'), Timestamp('2022-08-15 00:00:00', freq='C'), Timestamp('2022-08-16 00:00:00', freq='C'), Timestamp('2022-08-17 00:00:00', freq='C'), Timestamp('2022-08-18 00:00:00', freq='C'), Timestamp('2022-08-19 00:00:00', freq='C'), Timestamp('2022-08-22 00:00:00', freq='C'), Timestamp('2022-08-23 00:00:00', freq='C'), Timestamp('2022-08-24 00:00:00', freq='C'), Timestamp('2022-08-25 00:00:00', freq='C'), Timestamp('2022-08-26 00:00:00', freq='C'), Timestamp('2022-08-29 00:00:00', freq='C'), Timestamp('2022-08-30 00:00:00', freq='C'), Timestamp('2022-08-31 00:00:00', freq='C'), Timestamp('2022-09-01 00:00:00', freq='C'), Timestamp('2022-09-02 00:00:00', freq='C'), Timestamp('2022-09-06 00:00:00', freq='C'), Timestamp('2022-09-07 00:00:00', freq='C'), Timestamp('2022-09-08 00:00:00', freq='C'), Timestamp('2022-09-09 00:00:00', freq='C'), Timestamp('2022-09-12 00:00:00', freq='C'), Timestamp('2022-09-13 00:00:00', freq='C'), Timestamp('2022-09-14 00:00:00', freq='C'), Timestamp('2022-09-15 00:00:00', freq='C'), Timestamp('2022-09-16 00:00:00', freq='C'), Timestamp('2022-09-19 00:00:00', freq='C'), Timestamp('2022-09-20 00:00:00', freq='C'), Timestamp('2022-09-21 00:00:00', freq='C'), Timestamp('2022-09-22 00:00:00', freq='C'), Timestamp('2022-09-23 00:00:00', freq='C'), Timestamp('2022-09-26 00:00:00', freq='C'), Timestamp('2022-09-27 00:00:00', freq='C'), Timestamp('2022-09-28 00:00:00', freq='C'), Timestamp('2022-09-29 00:00:00', freq='C'), Timestamp('2022-09-30 00:00:00', freq='C'), Timestamp('2022-10-03 00:00:00', freq='C'), Timestamp('2022-10-04 00:00:00', freq='C'), Timestamp('2022-10-05 00:00:00', freq='C'), Timestamp('2022-10-06 00:00:00', freq='C'), Timestamp('2022-10-07 00:00:00', freq='C'), Timestamp('2022-10-11 00:00:00', freq='C'), Timestamp('2022-10-12 00:00:00', freq='C'), Timestamp('2022-10-13 00:00:00', freq='C'), Timestamp('2022-10-14 00:00:00', freq='C'), Timestamp('2022-10-17 00:00:00', freq='C'), Timestamp('2022-10-18 00:00:00', freq='C'), Timestamp('2022-10-19 00:00:00', freq='C'), Timestamp('2022-10-20 00:00:00', freq='C'), Timestamp('2022-10-21 00:00:00', freq='C'), Timestamp('2022-10-24 00:00:00', freq='C'), Timestamp('2022-10-25 00:00:00', freq='C'), Timestamp('2022-10-26 00:00:00', freq='C'), Timestamp('2022-10-27 00:00:00', freq='C'), Timestamp('2022-10-28 00:00:00', freq='C'), Timestamp('2022-10-31 00:00:00', freq='C'), Timestamp('2022-11-01 00:00:00', freq='C'), Timestamp('2022-11-02 00:00:00', freq='C'), Timestamp('2022-11-03 00:00:00', freq='C'), Timestamp('2022-11-04 00:00:00', freq='C'), Timestamp('2022-11-07 00:00:00', freq='C'), Timestamp('2022-11-08 00:00:00', freq='C'), Timestamp('2022-11-09 00:00:00', freq='C'), Timestamp('2022-11-10 00:00:00', freq='C'), Timestamp('2022-11-14 00:00:00', freq='C'), Timestamp('2022-11-15 00:00:00', freq='C'), Timestamp('2022-11-16 00:00:00', freq='C'), Timestamp('2022-11-17 00:00:00', freq='C'), Timestamp('2022-11-18 00:00:00', freq='C'), Timestamp('2022-11-21 00:00:00', freq='C'), Timestamp('2022-11-22 00:00:00', freq='C'), Timestamp('2022-11-23 00:00:00', freq='C'), Timestamp('2022-11-25 00:00:00', freq='C'), Timestamp('2022-11-28 00:00:00', freq='C'), Timestamp('2022-11-29 00:00:00', freq='C'), Timestamp('2022-11-30 00:00:00', freq='C'), Timestamp('2022-12-01 00:00:00', freq='C'), Timestamp('2022-12-02 00:00:00', freq='C'), Timestamp('2022-12-05 00:00:00', freq='C'), Timestamp('2022-12-06 00:00:00', freq='C'), Timestamp('2022-12-07 00:00:00', freq='C'), Timestamp('2022-12-08 00:00:00', freq='C'), Timestamp('2022-12-09 00:00:00', freq='C'), Timestamp('2022-12-12 00:00:00', freq='C'), Timestamp('2022-12-13 00:00:00', freq='C'), Timestamp('2022-12-14 00:00:00', freq='C'), Timestamp('2022-12-15 00:00:00', freq='C')]\n",
      "12/12 [==============================] - 0s 10ms/step\n"
     ]
    }
   ],
   "source": [
    "#Predicting...\n",
    "#Libraries that will help us extract only business days in the US.\n",
    "#Otherwise our dates would be wrong when we look back (or forward).  \n",
    "from pandas.tseries.holiday import USFederalHolidayCalendar\n",
    "from pandas.tseries.offsets import CustomBusinessDay\n",
    "us_bd = CustomBusinessDay(calendar=USFederalHolidayCalendar())\n",
    "#Remember that we can only predict one day in future as our model needs 5 variables\n",
    "#as inputs for prediction. We only have all 5 variables until the last day in our dataset.\n",
    "n_past = 354\n",
    "n_days_for_prediction=n_past+1  #let us predict past 15 days\n",
    "\n",
    "predict_period_dates = pd.date_range(list(train_dates)[-n_past], periods=n_days_for_prediction, freq=us_bd).tolist()\n",
    "print(predict_period_dates)\n",
    "\n",
    "#Make prediction\n",
    "prediction = model.predict(trainX[-n_days_for_prediction:]) #shape = (n, 1) where n is the n_days_for_prediction"
   ]
  },
  {
   "cell_type": "code",
   "execution_count": null,
   "metadata": {
    "collapsed": false,
    "pycharm": {
     "name": "#%%\n"
    }
   },
   "outputs": [],
   "source": [
    "#Perform inverse transformation to rescale back to original range\n",
    "#Since we used 5 variables for transform, the inverse expects same dimensions\n",
    "#Therefore, let us copy our values 5 times and discard them after inverse transform\n",
    "prediction_copies = np.repeat(prediction, df_for_training.shape[1], axis=-1)\n",
    "y_pred_future = scaler.inverse_transform(prediction_copies)[:,0]"
   ]
  },
  {
   "cell_type": "code",
   "execution_count": null,
   "metadata": {
    "collapsed": false,
    "pycharm": {
     "name": "#%%\n"
    }
   },
   "outputs": [
    {
     "name": "stderr",
     "output_type": "stream",
     "text": [
      "C:\\Users\\h2pro\\AppData\\Local\\Temp\\ipykernel_31140\\2600607734.py:11: SettingWithCopyWarning: \n",
      "A value is trying to be set on a copy of a slice from a DataFrame.\n",
      "Try using .loc[row_indexer,col_indexer] = value instead\n",
      "\n",
      "See the caveats in the documentation: https://pandas.pydata.org/pandas-docs/stable/user_guide/indexing.html#returning-a-view-versus-a-copy\n",
      "  original['Date']=pd.to_datetime(original['Date'])\n"
     ]
    }
   ],
   "source": [
    "# Convert timestamp to date\n",
    "forecast_dates = []\n",
    "for time_i in predict_period_dates:\n",
    "    forecast_dates.append(time_i.date())\n",
    "    \n",
    "df_forecast = pd.DataFrame({'Date':np.array(forecast_dates), 'Price':y_pred_future})\n",
    "df_forecast['Date']=pd.to_datetime(df_forecast['Date'])\n",
    "\n",
    "\n",
    "original = df[['Date', 'Price']]\n",
    "original['Date']=pd.to_datetime(original['Date'])\n",
    "original = original.loc[original['Date'] >= '2021-5-1']"
   ]
  },
  {
   "cell_type": "code",
   "execution_count": null,
   "metadata": {},
   "outputs": [
    {
     "ename": "NameError",
     "evalue": "name 'pd' is not defined",
     "output_type": "error",
     "traceback": [
      "\u001b[1;31m---------------------------------------------------------------------------\u001b[0m",
      "\u001b[1;31mNameError\u001b[0m                                 Traceback (most recent call last)",
      "\u001b[1;32mc:\\Users\\h2pro\\Programming\\AI ML\\TensorTest2.ipynb Cell 10\u001b[0m in \u001b[0;36m<cell line: 1>\u001b[1;34m()\u001b[0m\n\u001b[1;32m----> <a href='vscode-notebook-cell:/c%3A/Users/h2pro/Programming/AI%20ML/TensorTest2.ipynb#X23sZmlsZQ%3D%3D?line=0'>1</a>\u001b[0m CompTable \u001b[39m=\u001b[39m pd\u001b[39m.\u001b[39mDataFrame(df)\n",
      "\u001b[1;31mNameError\u001b[0m: name 'pd' is not defined"
     ]
    }
   ],
   "source": [
    "CompTable = pd.DataFrame(df)"
   ]
  },
  {
   "cell_type": "code",
   "execution_count": null,
   "metadata": {
    "collapsed": false,
    "pycharm": {
     "name": "#%%\n"
    }
   },
   "outputs": [
    {
     "name": "stderr",
     "output_type": "stream",
     "text": [
      "c:\\Users\\h2pro\\AppData\\Local\\Programs\\Python\\Python310\\lib\\site-packages\\seaborn\\_decorators.py:36: FutureWarning: Pass the following variables as keyword args: x, y. From version 0.12, the only valid positional argument will be `data`, and passing other arguments without an explicit keyword will result in an error or misinterpretation.\n",
      "  warnings.warn(\n",
      "c:\\Users\\h2pro\\AppData\\Local\\Programs\\Python\\Python310\\lib\\site-packages\\seaborn\\_decorators.py:36: FutureWarning: Pass the following variables as keyword args: x, y. From version 0.12, the only valid positional argument will be `data`, and passing other arguments without an explicit keyword will result in an error or misinterpretation.\n",
      "  warnings.warn(\n"
     ]
    },
    {
     "data": {
      "text/plain": [
       "<matplotlib.legend.Legend at 0x24cf89b1ff0>"
      ]
     },
     "execution_count": 54,
     "metadata": {},
     "output_type": "execute_result"
    },
    {
     "data": {
      "image/png": "[encoded data removed]",
      "text/plain": [
       "<Figure size 432x288 with 1 Axes>"
      ]
     },
     "metadata": {
      "needs_background": "light"
     },
     "output_type": "display_data"
    }
   ],
   "source": [
    "sns.lineplot(original['Date'], original['Price'])\n",
    "sns.lineplot(df_forecast['Date'], df_forecast['Price'])\n",
    "sns.lineplot().set(title=company)\n",
    "plt.legend(labels=[\"Actual\",\"Prediction\"])\n"
   ]
  }
 ],
 "metadata": {
  "kernelspec": {
   "display_name": "Python 3",
   "language": "python",
   "name": "python3"
  },
  "language_info": {
   "codemirror_mode": {
    "name": "ipython",
    "version": 3
   },
   "file_extension": ".py",
   "mimetype": "text/x-python",
   "name": "python",
   "nbconvert_exporter": "python",
   "pygments_lexer": "ipython3",
   "version": "3.10.5"
  },
  "vscode": {
   "interpreter": {
    "hash": "01c730f715953cdae05f8e4ac25ca6d1b5ea3ce06f18038eaf15eb4c2f30d669"
   }
  }
 },
 "nbformat": 4,
 "nbformat_minor": 0
}
